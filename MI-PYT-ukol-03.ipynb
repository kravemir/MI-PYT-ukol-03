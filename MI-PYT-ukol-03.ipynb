{
 "cells": [
  {
   "cell_type": "code",
   "execution_count": 1,
   "metadata": {},
   "outputs": [],
   "source": [
    "import pandas\n",
    "\n",
    "results = pandas.read_csv('tmp/survey_results_public.csv', index_col=0)\n",
    "cz_sk_selector = results['Country'].isin( ['Czech Republic', 'Slovak Republic'])\n",
    "\n",
    "# preselect salaries\n",
    "salaries = results['Salary']\n",
    "salaries = salaries.dropna()"
   ]
  },
  {
   "cell_type": "code",
   "execution_count": 2,
   "metadata": {},
   "outputs": [
    {
     "name": "stdout",
     "output_type": "stream",
     "text": [
      "Kolik lidí celkem vyplnilo dotazník?\n",
      "51392\n"
     ]
    }
   ],
   "source": [
    "print('Kolik lidí celkem vyplnilo dotazník?')\n",
    "print(len(results))"
   ]
  },
  {
   "cell_type": "code",
   "execution_count": 3,
   "metadata": {},
   "outputs": [
    {
     "name": "stdout",
     "output_type": "stream",
     "text": [
      "Kolik z nich bylo z ČR/SR?\n",
      "581\n"
     ]
    }
   ],
   "source": [
    "print('Kolik z nich bylo z ČR/SR?')\n",
    "print(len(results[ cz_sk_selector ] ))"
   ]
  },
  {
   "cell_type": "code",
   "execution_count": 4,
   "metadata": {},
   "outputs": [
    {
     "name": "stdout",
     "output_type": "stream",
     "text": [
      "Jaká je, podle dotazníku, průměrná mzda programátorů v ČR/SR? Ve světě?\n",
      "V ČR/SR 21211.71211\n",
      "Ve světe 56298.4806406\n",
      "Ve světe 56578.3188133 (mimo ČR/SR)\n"
     ]
    }
   ],
   "source": [
    "print('Jaká je, podle dotazníku, průměrná mzda programátorů v ČR/SR? Ve světě?')\n",
    "print('V ČR/SR', salaries[ cz_sk_selector ].mean())\n",
    "print('Ve světe', salaries.mean())\n",
    "print('Ve světe', salaries[ ~cz_sk_selector ].mean(), '(mimo ČR/SR)')"
   ]
  }
 ],
 "metadata": {
  "kernelspec": {
   "display_name": "Python 3",
   "language": "python",
   "name": "python3"
  },
  "language_info": {
   "codemirror_mode": {
    "name": "ipython",
    "version": 3
   },
   "file_extension": ".py",
   "mimetype": "text/x-python",
   "name": "python",
   "nbconvert_exporter": "python",
   "pygments_lexer": "ipython3",
   "version": "3.5.3"
  }
 },
 "nbformat": 4,
 "nbformat_minor": 2
}
