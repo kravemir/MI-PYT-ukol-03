{
 "cells": [
  {
   "cell_type": "code",
   "execution_count": 1,
   "metadata": {},
   "outputs": [],
   "source": [
    "import pandas\n",
    "import matplotlib\n",
    "\n",
    "# Zapnout zobrazování grafů (procento uvozuje „magickou” zkratku IPythonu):\n",
    "%matplotlib inline\n",
    "\n",
    "results = pandas.read_csv('tmp/survey_results_public.csv', index_col=0)"
   ]
  },
  {
   "cell_type": "code",
   "execution_count": 2,
   "metadata": {},
   "outputs": [],
   "source": [
    "cz_sk_selector = results['Country'].isin( ['Czech Republic', 'Slovak Republic'])\n",
    "\n",
    "# preselect salaries\n",
    "salaries = results['Salary']\n",
    "salaries = salaries.dropna()\n",
    "\n",
    "have_worked_language = results['HaveWorkedLanguage']\n",
    "have_worked_python   =  have_worked_language.str.contains('Python')\n",
    "have_worked_java     =  have_worked_language.str.contains('Java')\n",
    "\n",
    "want_work_language = results['WantWorkLanguage']\n",
    "want_work_python   =  want_work_language.str.contains('Python')\n",
    "want_work_java     =  want_work_language.str.contains('Java')"
   ]
  },
  {
   "cell_type": "code",
   "execution_count": 3,
   "metadata": {},
   "outputs": [
    {
     "name": "stdout",
     "output_type": "stream",
     "text": [
      "Kolik lidí celkem vyplnilo dotazník?\n",
      "51392\n"
     ]
    }
   ],
   "source": [
    "print('Kolik lidí celkem vyplnilo dotazník?')\n",
    "print(len(results))"
   ]
  },
  {
   "cell_type": "code",
   "execution_count": 4,
   "metadata": {},
   "outputs": [
    {
     "name": "stdout",
     "output_type": "stream",
     "text": [
      "Kolik z nich bylo z ČR/SR?\n",
      "581\n"
     ]
    }
   ],
   "source": [
    "print('Kolik z nich bylo z ČR/SR?')\n",
    "print(len(results[ cz_sk_selector ] ))"
   ]
  },
  {
   "cell_type": "code",
   "execution_count": 5,
   "metadata": {},
   "outputs": [
    {
     "name": "stdout",
     "output_type": "stream",
     "text": [
      "Jaká je, podle dotazníku, průměrná mzda programátorů v ČR/SR? Ve světě?\n",
      " V ČR/SR: $21211.71\n",
      "Ve světe: $56298.48\n",
      "Ve světe: $56578.32 (mimo ČR/SR)\n"
     ]
    }
   ],
   "source": [
    "print('Jaká je, podle dotazníku, průměrná mzda programátorů v ČR/SR? Ve světě?')\n",
    "print(' V ČR/SR: $%.2f' % (salaries[ cz_sk_selector ].mean()))\n",
    "print('Ve světe: $%.2f' % (salaries.mean()))\n",
    "print('Ve světe: $%.2f (mimo ČR/SR)' % (salaries[ ~cz_sk_selector ].mean()))"
   ]
  },
  {
   "cell_type": "code",
   "execution_count": 6,
   "metadata": {},
   "outputs": [
    {
     "name": "stdout",
     "output_type": "stream",
     "text": [
      "Kolik lidí z ČR/SR uvedlo, že používá* Python?\n",
      "129\n"
     ]
    }
   ],
   "source": [
    "print('Kolik lidí z ČR/SR uvedlo, že používá* Python?')\n",
    "print(len(results[cz_sk_selector & have_worked_python]))"
   ]
  },
  {
   "cell_type": "code",
   "execution_count": 7,
   "metadata": {},
   "outputs": [
    {
     "name": "stdout",
     "output_type": "stream",
     "text": [
      "Kolik z nich chce v používání* Pythonu pokračovat?\n",
      "86\n"
     ]
    }
   ],
   "source": [
    "print('Kolik z nich chce v používání* Pythonu pokračovat?')\n",
    "print(len(results[cz_sk_selector & have_worked_python & want_work_python]))"
   ]
  },
  {
   "cell_type": "code",
   "execution_count": 8,
   "metadata": {},
   "outputs": [
    {
     "name": "stdout",
     "output_type": "stream",
     "text": [
      "Kolik lidí Python nepoužívá, ale chce ho začít používat?\n",
      "5118\n"
     ]
    }
   ],
   "source": [
    "print('Kolik lidí Python nepoužívá, ale chce ho začít používat?')\n",
    "print(len(results[ (have_worked_python==False) & want_work_python]))"
   ]
  },
  {
   "cell_type": "code",
   "execution_count": 9,
   "metadata": {},
   "outputs": [
    {
     "name": "stdout",
     "output_type": "stream",
     "text": [
      "Předcházející tři otázky odpovězte také pro Javu místo Pythonu.\n",
      "\n",
      "Kolik lidí z ČR/SR uvedlo, že používá* Java:               299\n",
      "Kolik z nich chce v používání* Pythonu pokračovat:         203\n",
      "Kolik lidí Python nepoužívá, ale chce ho začít používat:   2137\n"
     ]
    }
   ],
   "source": [
    "print('Předcházející tři otázky odpovězte také pro Javu místo Pythonu.\\n')\n",
    "print(\n",
    "    'Kolik lidí z ČR/SR uvedlo, že používá* Java:              ',\n",
    "    len(results[cz_sk_selector & have_worked_java])\n",
    ")\n",
    "print(\n",
    "    'Kolik z nich chce v používání* Pythonu pokračovat:        ', \n",
    "    len(results[cz_sk_selector & have_worked_java & want_work_java])\n",
    ")\n",
    "print(\n",
    "    'Kolik lidí Python nepoužívá, ale chce ho začít používat:  ',\n",
    "    len(results[ (have_worked_java==False) & want_work_java])\n",
    ")"
   ]
  },
  {
   "cell_type": "code",
   "execution_count": 10,
   "metadata": {},
   "outputs": [],
   "source": [
    "# src: https://stackoverflow.com/questions/17116814/pandas-how-do-i-split-text-in-a-column-into-multiple-rows\n",
    "have_worked_language_table = have_worked_language.str.split('; ').apply(pandas.Series,1).stack().reset_index(level=1, drop=True)\n",
    "have_worked_language_table.name = 'Have worked language'"
   ]
  },
  {
   "cell_type": "code",
   "execution_count": 11,
   "metadata": {},
   "outputs": [
    {
     "name": "stdout",
     "output_type": "stream",
     "text": [
      "Vykreslete graf, který pro každý programovací jazyk, který lidi z ČR/SR uvedli, ukáže průměrnou měsíční mzdu lidí z ČR/SR, kteří tento jazyk používají* (podle dat dostupných z dotazníku).\n"
     ]
    },
    {
     "data": {
      "image/png": "[encoded data removed]",
      "text/plain": [
       "<matplotlib.figure.Figure at 0x7fba375d3080>"
      ]
     },
     "metadata": {},
     "output_type": "display_data"
    }
   ],
   "source": [
    "print('Vykreslete graf, který pro každý programovací jazyk, který lidi z ČR/SR uvedli, ukáže průměrnou měsíční mzdu lidí z ČR/SR, kteří tento jazyk používají* (podle dat dostupných z dotazníku).')\n",
    "\n",
    "cz_sk_salaries = salaries[cz_sk_selector]\n",
    "cz_sk_language_salaries = have_worked_language_table.to_frame().join(cz_sk_salaries).dropna()\n",
    "\n",
    "average_cz_sk_language_salary = cz_sk_language_salaries.groupby('Have worked language').mean()\n",
    "plot = average_cz_sk_language_salary.plot.bar(legend=False)\n",
    "\n",
    "def kilo_dollars(x, pos):\n",
    "    return '$%1.0fk' % (x*1e-3)\n",
    "\n",
    "plot.set_xlabel('Language')\n",
    "plot.set_ylabel('Average salary CZ / SK')\n",
    "plot.yaxis.set_major_formatter(matplotlib.ticker.FuncFormatter(kilo_dollars))"
   ]
  }
 ],
 "metadata": {
  "kernelspec": {
   "display_name": "Python 3",
   "language": "python",
   "name": "python3"
  },
  "language_info": {
   "codemirror_mode": {
    "name": "ipython",
    "version": 3
   },
   "file_extension": ".py",
   "mimetype": "text/x-python",
   "name": "python",
   "nbconvert_exporter": "python",
   "pygments_lexer": "ipython3",
   "version": "3.5.3"
  }
 },
 "nbformat": 4,
 "nbformat_minor": 2
}
